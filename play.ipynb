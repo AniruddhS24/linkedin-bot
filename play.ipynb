{
 "cells": [
  {
   "cell_type": "code",
   "execution_count": 1,
   "metadata": {},
   "outputs": [
    {
     "data": {
      "text/plain": [
       "['babbage',\n",
       " 'davinci',\n",
       " 'text-davinci-edit-001',\n",
       " 'babbage-code-search-code',\n",
       " 'text-similarity-babbage-001',\n",
       " 'code-davinci-edit-001',\n",
       " 'text-davinci-001',\n",
       " 'ada',\n",
       " 'babbage-code-search-text',\n",
       " 'babbage-similarity',\n",
       " 'code-search-babbage-text-001',\n",
       " 'text-curie-001',\n",
       " 'code-search-babbage-code-001',\n",
       " 'text-ada-001',\n",
       " 'text-embedding-ada-002',\n",
       " 'text-similarity-ada-001',\n",
       " 'curie-instruct-beta',\n",
       " 'ada-code-search-code',\n",
       " 'ada-similarity',\n",
       " 'gpt-3.5-turbo-0301',\n",
       " 'code-search-ada-text-001',\n",
       " 'text-search-ada-query-001',\n",
       " 'davinci-search-document',\n",
       " 'gpt-3.5-turbo',\n",
       " 'ada-code-search-text',\n",
       " 'text-search-ada-doc-001',\n",
       " 'davinci-instruct-beta',\n",
       " 'text-similarity-curie-001',\n",
       " 'code-search-ada-code-001',\n",
       " 'ada-search-query',\n",
       " 'text-search-davinci-query-001',\n",
       " 'curie-search-query',\n",
       " 'davinci-search-query',\n",
       " 'babbage-search-document',\n",
       " 'ada-search-document',\n",
       " 'text-search-curie-query-001',\n",
       " 'whisper-1',\n",
       " 'text-search-babbage-doc-001',\n",
       " 'curie-search-document',\n",
       " 'text-davinci-003',\n",
       " 'text-search-curie-doc-001',\n",
       " 'babbage-search-query',\n",
       " 'text-babbage-001',\n",
       " 'text-search-davinci-doc-001',\n",
       " 'text-search-babbage-query-001',\n",
       " 'curie-similarity',\n",
       " 'curie',\n",
       " 'text-similarity-davinci-001',\n",
       " 'text-davinci-002',\n",
       " 'davinci-similarity',\n",
       " 'cushman:2020-05-03',\n",
       " 'ada:2020-05-03',\n",
       " 'babbage:2020-05-03',\n",
       " 'curie:2020-05-03',\n",
       " 'davinci:2020-05-03',\n",
       " 'if-davinci-v2',\n",
       " 'if-curie-v2',\n",
       " 'if-davinci:3.0.0',\n",
       " 'davinci-if:3.0.0',\n",
       " 'davinci-instruct-beta:2.0.0',\n",
       " 'text-ada:001',\n",
       " 'text-davinci:001',\n",
       " 'text-curie:001',\n",
       " 'text-babbage:001']"
      ]
     },
     "execution_count": 1,
     "metadata": {},
     "output_type": "execute_result"
    }
   ],
   "source": [
    "import os\n",
    "from linkedin import LinkedInBot\n",
    "from dotenv import load_dotenv, find_dotenv\n",
    "import openai\n",
    "\n",
    "load_dotenv(find_dotenv())\n",
    "\n",
    "openai.api_key = os.getenv('OPENAI_SECRET')\n",
    "[x[\"id\"] for x in openai.Model.list()[\"data\"]]"
   ]
  },
  {
   "cell_type": "code",
   "execution_count": 2,
   "id": "9435e534",
   "metadata": {},
   "outputs": [
    {
     "name": "stdout",
     "output_type": "stream",
     "text": [
      "Successfully logged in to LinkedIn...\n",
      "Processed convo 0\n",
      "Processed convo 1\n",
      "Processed convo 2\n",
      "Processed convo 3\n",
      "Error processing convo 4\n"
     ]
    }
   ],
   "source": [
    "bot = LinkedInBot(os.getenv('LINKEDIN_USERNAME'), os.getenv('LINKEDIN_PWD'))"
   ]
  },
  {
   "cell_type": "code",
   "execution_count": 3,
   "id": "29ad5e95",
   "metadata": {},
   "outputs": [
    {
     "name": "stdout",
     "output_type": "stream",
     "text": [
      "Zachary Gasson:\n",
      "\n",
      "Hey Aniruddh - Great to connect, are you looking to join the trading space in 23/24?\n",
      "\n",
      "If so let's connect, i'm the top quant recruiter placing academics into PDT, TGS and Renaissance and think you would be a good candidate. \n",
      "\n",
      "Let me know your thoughts?\n",
      "\n",
      "**************************************************\n",
      "\n",
      "Aniruddh Sriram:\n",
      "\n",
      "Hi, Zachary\n",
      "**************************************************\n",
      "\n",
      "Aniruddh Sriram:\n",
      "\n",
      "Yes, I am interested in quant trading for 2023/24\n",
      "**************************************************\n",
      "\n",
      "Zachary Gasson:\n",
      "\n",
      "Great to hear\n",
      "**************************************************\n",
      "\n",
      "Zachary Gasson:\n",
      "\n",
      "BTW do you know someone called Viraj from UTA, I worked with him last year to join the space\n",
      "**************************************************\n",
      "\n",
      "Zachary Gasson:\n",
      "\n",
      "Anyhow, let's line up a intro call, I'm free now if that works alternatively tomorrow at 9.30, 11am or 12.30 et if that works?\n",
      "**************************************************\n",
      "\n",
      "Aniruddh Sriram:\n",
      "\n",
      "Tomorrow 12:30 ET should work!\n",
      "**************************************************\n",
      "\n",
      "Zachary Gasson:\n",
      "\n",
      "Perfect, what's the best number to usually reach you on?\n",
      "**************************************************\n",
      "\n",
      "Aniruddh Sriram:\n",
      "\n",
      "So sorry, can we push to a time later today? My number is +1(832)-540-7633\n",
      "**************************************************\n",
      "\n",
      "Aniruddh Sriram:\n",
      "\n",
      "Maybe 3pm ET?\n",
      "**************************************************\n",
      "\n",
      "Zachary Gasson:\n",
      "\n",
      "hey i can't do later today i'm booked out, anytime Tuesday or Wednesday morning will work, feel free to suggest a time that works\n",
      "**************************************************\n",
      "\n",
      "Aniruddh Sriram:\n",
      "\n",
      "hey Zachary - sorry to be so slow in responding, my finals were wrapping up. I'm available pretty much anytime for the next week. Are you free for a call tomorrow at 3pm CST? If not let me know an alternative that works for you\n",
      "**************************************************\n",
      "\n"
     ]
    }
   ],
   "source": [
    "bot.print_conversation(bot.conversations[1])"
   ]
  },
  {
   "cell_type": "code",
   "execution_count": 9,
   "id": "f06c21c4",
   "metadata": {},
   "outputs": [
    {
     "name": "stdout",
     "output_type": "stream",
     "text": [
      "This is a LinkedIn conversation between 2 people. You are a computer science student who is a software engineer.\n",
      "Michelle Colla:Hey Aniruddh. Saw that you run a Saas. Would you be interested to hear how I could create demand for your SaaS and generate +50 sign-ups/demo's guaranteed - or I'll give you your money back and $100 for wasting your time? LMK\n",
      "Aniruddh Sriram:Hey! Thanks for reaching out. I'm interested, what did you have in mind?\n",
      "Michelle Colla:We just accidentally figured out how to automate REAL LinkedIn engagement using ChatGPT. It's unreal this AI combination doesn't exist in the market yet. \n",
      "\n",
      "Can I send you a video explaining how it works? \n",
      "\n",
      "I think this would be a game changer for you since I know you post often and probably want more likes and comments on your posts.\n",
      "Now reply to the conversation. Make sure you are polite and concise. Remember not to decline or commit to anything, but rather respond by asking for more information. Your goal is to continue engaging with the other user while extracting useful information.\n",
      "\n"
     ]
    }
   ],
   "source": [
    "prompt = bot.build_gpt_prompt(bot.conversations[2])\n",
    "print(prompt)"
   ]
  },
  {
   "cell_type": "code",
   "execution_count": 10,
   "id": "241a7c8b",
   "metadata": {},
   "outputs": [
    {
     "data": {
      "text/plain": [
       "<OpenAIObject text_completion id=cmpl-7CD5OxL6FwJ02hCdhowL1chSAEXTN at 0x10850a180> JSON: {\n",
       "  \"choices\": [\n",
       "    {\n",
       "      \"finish_reason\": \"stop\",\n",
       "      \"index\": 0,\n",
       "      \"logprobs\": null,\n",
       "      \"text\": \"\\nAniruddh Sriram:Thanks for the offer, Michelle! That sounds really interesting and I'm very curious to learn more. Could you please explain how this AI combination could help me accelerate demand for my SaaS? Is there any way for me to test it out before I commit to anything?\"\n",
       "    }\n",
       "  ],\n",
       "  \"created\": 1683144594,\n",
       "  \"id\": \"cmpl-7CD5OxL6FwJ02hCdhowL1chSAEXTN\",\n",
       "  \"model\": \"text-davinci-003\",\n",
       "  \"object\": \"text_completion\",\n",
       "  \"usage\": {\n",
       "    \"completion_tokens\": 64,\n",
       "    \"prompt_tokens\": 243,\n",
       "    \"total_tokens\": 307\n",
       "  }\n",
       "}"
      ]
     },
     "execution_count": 10,
     "metadata": {},
     "output_type": "execute_result"
    }
   ],
   "source": [
    "openai.Completion.create(\n",
    "    model=\"text-davinci-003\",\n",
    "    prompt=prompt,\n",
    "    max_tokens=96)"
   ]
  }
 ],
 "metadata": {
  "kernelspec": {
   "display_name": ".venv",
   "language": "python",
   "name": "python3"
  },
  "language_info": {
   "codemirror_mode": {
    "name": "ipython",
    "version": 3
   },
   "file_extension": ".py",
   "mimetype": "text/x-python",
   "name": "python",
   "nbconvert_exporter": "python",
   "pygments_lexer": "ipython3",
   "version": "3.9.7"
  }
 },
 "nbformat": 4,
 "nbformat_minor": 5
}
